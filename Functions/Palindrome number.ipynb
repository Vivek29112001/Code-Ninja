{
 "cells": [
  {
   "cell_type": "code",
   "execution_count": 14,
   "id": "287fbbbd",
   "metadata": {},
   "outputs": [
    {
     "name": "stdout",
     "output_type": "stream",
     "text": [
      "454\n",
      "true\n"
     ]
    }
   ],
   "source": [
    "def checkPalindrome(n):\n",
    "    Revese = 0\n",
    "    while n > 0:\n",
    "        Remainder = n % 10\n",
    "        n = int(n / 10)\n",
    "        Revese = Revese * 10 + Remainder\n",
    "    return Revese\n",
    "\n",
    "num = int(input())\n",
    "isPalindrome = checkPalindrome(num)\n",
    "if(isPalindrome):\n",
    "\tprint('true')\n",
    "else:\n",
    "\tprint('false')"
   ]
  },
  {
   "cell_type": "code",
   "execution_count": null,
   "id": "92d7e2c5",
   "metadata": {},
   "outputs": [],
   "source": [
    "def checkPalindrome(num):\n",
    "    return num==num[::-1]\n",
    "\n",
    "num = input()\n",
    "isPalindrome = checkPalindrome(num)\n",
    "if(isPalindrome):\n",
    "\tprint('true')\n",
    "else:\n",
    "\tprint('false')\n",
    "\n"
   ]
  }
 ],
 "metadata": {
  "kernelspec": {
   "display_name": "Python 3 (ipykernel)",
   "language": "python",
   "name": "python3"
  },
  "language_info": {
   "codemirror_mode": {
    "name": "ipython",
    "version": 3
   },
   "file_extension": ".py",
   "mimetype": "text/x-python",
   "name": "python",
   "nbconvert_exporter": "python",
   "pygments_lexer": "ipython3",
   "version": "3.9.7"
  }
 },
 "nbformat": 4,
 "nbformat_minor": 5
}
