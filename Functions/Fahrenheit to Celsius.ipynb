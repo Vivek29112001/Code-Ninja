{
 "cells": [
  {
   "cell_type": "code",
   "execution_count": 2,
   "id": "170fe63c",
   "metadata": {},
   "outputs": [
    {
     "name": "stdout",
     "output_type": "stream",
     "text": [
      "4\n",
      "5\n",
      "6\n",
      "4\t-15\n"
     ]
    }
   ],
   "source": [
    "import math\n",
    "def printTable(s,e,step):\n",
    "    for i in range(s,e+1,step):\n",
    "        c=((i-32)*5)/9\n",
    "        if c>0:\n",
    "            x=math.floor(c)\n",
    "        else:\n",
    "            x=math.ceil(c)\n",
    "        print(i,x,sep='\\t')\n",
    "    \n",
    "#Implement Your Code Here \n",
    "\n",
    "s = int(input())\n",
    "e = int(input())\n",
    "step = int(input())\n",
    "printTable(s,e,step)\n",
    "\n",
    "\n",
    "\n",
    "\n",
    "\n"
   ]
  },
  {
   "cell_type": "code",
   "execution_count": 3,
   "id": "c46b533e",
   "metadata": {},
   "outputs": [
    {
     "name": "stdout",
     "output_type": "stream",
     "text": [
      "4\n",
      "5\n",
      "6\n",
      "4 -15\n"
     ]
    }
   ],
   "source": [
    "def printTable(start,end,step):\n",
    "      while start<=end:\n",
    "            Fahrenhiet_to_Celsius=(((start-32)*5)/9)\n",
    "            print(start,int(Fahrenhiet_to_Celsius))\n",
    "            start=start+step\n",
    "s = int(input())\n",
    "e = int(input())\n",
    "step = int(input())\n",
    "printTable(s,e,step)"
   ]
  }
 ],
 "metadata": {
  "kernelspec": {
   "display_name": "Python 3 (ipykernel)",
   "language": "python",
   "name": "python3"
  },
  "language_info": {
   "codemirror_mode": {
    "name": "ipython",
    "version": 3
   },
   "file_extension": ".py",
   "mimetype": "text/x-python",
   "name": "python",
   "nbconvert_exporter": "python",
   "pygments_lexer": "ipython3",
   "version": "3.9.7"
  }
 },
 "nbformat": 4,
 "nbformat_minor": 5
}
