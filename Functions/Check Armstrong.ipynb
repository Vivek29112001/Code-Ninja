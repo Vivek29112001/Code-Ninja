{
 "cells": [
  {
   "cell_type": "code",
   "execution_count": 3,
   "id": "01a48cd1",
   "metadata": {},
   "outputs": [
    {
     "name": "stdout",
     "output_type": "stream",
     "text": [
      "1\n",
      "true\n"
     ]
    }
   ],
   "source": [
    "n=int(input())\n",
    "no_of_digits=0\n",
    "org_n=n\n",
    "orginal_no=n\n",
    "Armstrong=0\n",
    "while n>0:\n",
    "    no_of_digits+=1\n",
    "    n=n//10\n",
    "while org_n>0:\n",
    "    Last_Digit = org_n % 10\n",
    "    Armstrong  = Armstrong  + ((Last_Digit)**(no_of_digits))\n",
    "    org_n = (org_n //10)\n",
    "if orginal_no==Armstrong:\n",
    "    print(\"true\")\n",
    "else:\n",
    "    print(\"false\")"
   ]
  },
  {
   "cell_type": "code",
   "execution_count": null,
   "id": "e41e6c2e",
   "metadata": {},
   "outputs": [],
   "source": []
  }
 ],
 "metadata": {
  "kernelspec": {
   "display_name": "Python 3 (ipykernel)",
   "language": "python",
   "name": "python3"
  },
  "language_info": {
   "codemirror_mode": {
    "name": "ipython",
    "version": 3
   },
   "file_extension": ".py",
   "mimetype": "text/x-python",
   "name": "python",
   "nbconvert_exporter": "python",
   "pygments_lexer": "ipython3",
   "version": "3.9.7"
  }
 },
 "nbformat": 4,
 "nbformat_minor": 5
}
