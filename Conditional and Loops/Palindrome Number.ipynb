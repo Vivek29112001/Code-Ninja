{
 "cells": [
  {
   "cell_type": "markdown",
   "id": "cb9132ae",
   "metadata": {},
   "source": [
    "Palindrome Number"
   ]
  },
  {
   "cell_type": "code",
   "execution_count": null,
   "id": "3d2581ca",
   "metadata": {},
   "outputs": [],
   "source": [
    "def checkPalindrome(n):\n",
    "    Revese = 0\n",
    "    while n > 0:\n",
    "        Remainder = n % 10\n",
    "        n = int(n / 10)\n",
    "        Revese = Revese * 10 + Remainder\n",
    "    return Revese\n",
    "num = int(input())\n",
    "Rev = checkPalindrome(num)\n",
    "if(num==Rev):\n",
    "\tprint('true')\n",
    "else:\n",
    "\tprint('false')\n"
   ]
  }
 ],
 "metadata": {
  "kernelspec": {
   "display_name": "Python 3 (ipykernel)",
   "language": "python",
   "name": "python3"
  },
  "language_info": {
   "codemirror_mode": {
    "name": "ipython",
    "version": 3
   },
   "file_extension": ".py",
   "mimetype": "text/x-python",
   "name": "python",
   "nbconvert_exporter": "python",
   "pygments_lexer": "ipython3",
   "version": "3.9.7"
  }
 },
 "nbformat": 4,
 "nbformat_minor": 5
}
