{
 "cells": [
  {
   "cell_type": "markdown",
   "id": "1175de0a",
   "metadata": {},
   "source": [
    "Sum of even and odd"
   ]
  },
  {
   "cell_type": "code",
   "execution_count": 4,
   "id": "23016176",
   "metadata": {},
   "outputs": [
    {
     "name": "stdout",
     "output_type": "stream",
     "text": [
      "987654321987654321\n",
      "40 50\n"
     ]
    }
   ],
   "source": [
    "a=int(input())\n",
    "sum_of_even =0\n",
    "sum_of_odd = 0\n",
    "while a>0:\n",
    "    r=a%10\n",
    "    if r%2==0:\n",
    "        sum_of_even = sum_of_even + r\n",
    "    else:\n",
    "        sum_of_odd = sum_of_odd + r\n",
    "    a = a//10\n",
    "print(sum_of_even, sum_of_odd)"
   ]
  }
 ],
 "metadata": {
  "kernelspec": {
   "display_name": "Python 3 (ipykernel)",
   "language": "python",
   "name": "python3"
  },
  "language_info": {
   "codemirror_mode": {
    "name": "ipython",
    "version": 3
   },
   "file_extension": ".py",
   "mimetype": "text/x-python",
   "name": "python",
   "nbconvert_exporter": "python",
   "pygments_lexer": "ipython3",
   "version": "3.9.7"
  }
 },
 "nbformat": 4,
 "nbformat_minor": 5
}
