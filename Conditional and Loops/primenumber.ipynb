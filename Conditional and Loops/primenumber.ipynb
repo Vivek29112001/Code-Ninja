{
 "cells": [
  {
   "cell_type": "markdown",
   "id": "b70ffe0d",
   "metadata": {},
   "source": [
    "PRIME NUMBER OR NOT"
   ]
  },
  {
   "cell_type": "code",
   "execution_count": null,
   "id": "590e115e",
   "metadata": {},
   "outputs": [],
   "source": [
    "n=int(input())\n",
    "d=2\n",
    "flag=False\n",
    "while d<n:\n",
    "    if n%d==0:\n",
    "#         print(\"n is not prime\")\n",
    "        flag=True\n",
    "    d=d+1\n",
    "\n",
    "if flag:\n",
    "    print(\"not prime\")\n",
    "else:\n",
    "    print(\"prime\")"
   ]
  },
  {
   "cell_type": "code",
   "execution_count": null,
   "id": "427ed6cb",
   "metadata": {},
   "outputs": [],
   "source": [
    "n=int(input())\n",
    "d=3\n",
    "flag=False\n",
    "while d<n:\n",
    "    if n%d==0:\n",
    "        flag=True\n",
    "    d=d+1\n",
    "    \n",
    "if flag:\n",
    "    print(\"not prime\")\n",
    "else: \n",
    "    print(\"prime\")"
   ]
  },
  {
   "cell_type": "code",
   "execution_count": null,
   "id": "bbc74cbf",
   "metadata": {},
   "outputs": [],
   "source": [
    "a\n",
    "print(a)"
   ]
  }
 ],
 "metadata": {
  "kernelspec": {
   "display_name": "Python 3 (ipykernel)",
   "language": "python",
   "name": "python3"
  },
  "language_info": {
   "codemirror_mode": {
    "name": "ipython",
    "version": 3
   },
   "file_extension": ".py",
   "mimetype": "text/x-python",
   "name": "python",
   "nbconvert_exporter": "python",
   "pygments_lexer": "ipython3",
   "version": "3.9.7"
  }
 },
 "nbformat": 4,
 "nbformat_minor": 5
}
