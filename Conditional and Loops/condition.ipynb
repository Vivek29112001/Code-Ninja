{
 "cells": [
  {
   "cell_type": "code",
   "execution_count": 3,
   "id": "8c5afc45",
   "metadata": {},
   "outputs": [
    {
     "name": "stdout",
     "output_type": "stream",
     "text": [
      "12\n",
      "11\n",
      "both > 10\n"
     ]
    }
   ],
   "source": [
    "a=int(input())\n",
    "b=int(input())\n",
    "c1=a>10\n",
    "c2=b>10\n",
    "r=c1 and c2\n",
    "if r:\n",
    "    print(\"both > 10\")\n",
    "else:\n",
    "    print(\"no they are not\")"
   ]
  },
  {
   "cell_type": "code",
   "execution_count": null,
   "id": "ff989ac1",
   "metadata": {},
   "outputs": [],
   "source": [
    "            or operator"
   ]
  },
  {
   "cell_type": "code",
   "execution_count": 5,
   "id": "80f4a398",
   "metadata": {},
   "outputs": [
    {
     "name": "stdout",
     "output_type": "stream",
     "text": [
      "10\n",
      "5\n",
      "no they are not\n"
     ]
    }
   ],
   "source": [
    "a=int(input())\n",
    "b=int(input())\n",
    "if a>10 or b>10:\n",
    "    print(\"both > 10\")\n",
    "else:\n",
    "    print(\"no they are not\")"
   ]
  },
  {
   "cell_type": "code",
   "execution_count": 4,
   "id": "f2ce340f",
   "metadata": {},
   "outputs": [
    {
     "name": "stdout",
     "output_type": "stream",
     "text": [
      "5\n",
      "11\n",
      "no they are not\n"
     ]
    }
   ],
   "source": [
    "a=int(input())\n",
    "b=int(input())\n",
    "if a>10 and b>10:\n",
    "    print(\"both > 10\")\n",
    "else:\n",
    "    print(\"no they are not\")"
   ]
  },
  {
   "cell_type": "code",
   "execution_count": 8,
   "id": "facb427a",
   "metadata": {},
   "outputs": [
    {
     "name": "stdout",
     "output_type": "stream",
     "text": [
      "7\n",
      "it is 7\n"
     ]
    }
   ],
   "source": [
    "a=int(input())\n",
    "if a==7:\n",
    "    print(\"it is 7\")\n",
    "else:\n",
    "    print(\"not 7\")"
   ]
  },
  {
   "cell_type": "code",
   "execution_count": 12,
   "id": "7c97d451",
   "metadata": {},
   "outputs": [
    {
     "name": "stdout",
     "output_type": "stream",
     "text": [
      "7\n",
      "it is  7\n"
     ]
    }
   ],
   "source": [
    "a=int(input())\n",
    "if a!=7:\n",
    "    print(\"no it is not 7\")\n",
    "else:\n",
    "    print(\"it is  7\")"
   ]
  },
  {
   "cell_type": "code",
   "execution_count": 21,
   "id": "04e8cb91",
   "metadata": {},
   "outputs": [
    {
     "name": "stdout",
     "output_type": "stream",
     "text": [
      "5\n",
      "44\n",
      "6\n",
      "b is larger\n"
     ]
    }
   ],
   "source": [
    "a=int(input())\n",
    "b=int(input())\n",
    "c=int(input())\n",
    "if a>b and a>c:\n",
    "    print(\"a is larger\")\n",
    "elif b>a and b>c:\n",
    "    print(\"b is larger\")\n",
    "else:\n",
    "    print(\"c is larger\")"
   ]
  },
  {
   "cell_type": "code",
   "execution_count": 26,
   "id": "b67f637c",
   "metadata": {},
   "outputs": [
    {
     "name": "stdout",
     "output_type": "stream",
     "text": [
      "10\n",
      "11\n",
      "9\n",
      "b is largest\n"
     ]
    }
   ],
   "source": [
    "a=int(input())\n",
    "b=int(input())\n",
    "c=int(input())\n",
    "if a>=b and a>=c: \n",
    "    print(\"a is largest\")\n",
    "elif a<=b and a>=c:\n",
    "    print( \"b is largest\")\n",
    "else:\n",
    "    print(\"c ia larger\")\n",
    "    "
   ]
  },
  {
   "cell_type": "code",
   "execution_count": 30,
   "id": "5568826e",
   "metadata": {},
   "outputs": [
    {
     "name": "stdout",
     "output_type": "stream",
     "text": [
      "9\n",
      "green\n"
     ]
    }
   ],
   "source": [
    "n=int(input())\n",
    "if n>10:\n",
    "    print(\"red\")\n",
    "elif n>=5:\n",
    "    print(\"green\")\n",
    "else:\n",
    "    print(\" yellow\")"
   ]
  },
  {
   "cell_type": "code",
   "execution_count": 33,
   "id": "940e559f",
   "metadata": {},
   "outputs": [
    {
     "name": "stdout",
     "output_type": "stream",
     "text": [
      "0\n",
      "Zero\n"
     ]
    }
   ],
   "source": [
    "# Read input as sepcified in the question\n",
    "# Print output as specified in the question\n",
    "n=int(input())\n",
    "if n>0:\n",
    "    print(\"positive\")\n",
    "elif n<0:\n",
    "    print(\"negative\")\n",
    "else:\n",
    "    print(\"Zero\")"
   ]
  },
  {
   "cell_type": "code",
   "execution_count": null,
   "id": "2ea1d888",
   "metadata": {},
   "outputs": [],
   "source": [
    "#NESTED IF ELSE"
   ]
  },
  {
   "cell_type": "code",
   "execution_count": 36,
   "id": "00587e9c",
   "metadata": {},
   "outputs": [
    {
     "name": "stdout",
     "output_type": "stream",
     "text": [
      "5\n",
      "n is odd\n"
     ]
    }
   ],
   "source": [
    "n=int(input())\n",
    "if n%2==0:\n",
    "    print(\"n is even\")\n",
    "    if n==0:\n",
    "        print(\"n is  zero\")\n",
    "else:\n",
    "    print(\"n is odd\")"
   ]
  },
  {
   "cell_type": "code",
   "execution_count": null,
   "id": "b6a2eafb",
   "metadata": {},
   "outputs": [],
   "source": [
    "n=int(input())\n",
    "m=int(input())\n",
    "\n",
    "if n%2==0:\n",
    "    if m%2==0:\n",
    "        print(1)\n",
    "    else :\n",
    "        print(2)\n",
    "else:\n",
    "    print(3)\n"
   ]
  },
  {
   "cell_type": "code",
   "execution_count": null,
   "id": "942d8a2f",
   "metadata": {},
   "outputs": [],
   "source": [
    "n=int(input())\n",
    "m=int(input())\n",
    "\n",
    "if n%2==0:\n",
    "    if m%2==0:\n",
    "        print(1)\n",
    "    else :\n",
    "        print(2)\n",
    "else:\n",
    "    print(3)"
   ]
  },
  {
   "cell_type": "code",
   "execution_count": null,
   "id": "47ebb10e",
   "metadata": {},
   "outputs": [],
   "source": []
  }
 ],
 "metadata": {
  "kernelspec": {
   "display_name": "Python 3 (ipykernel)",
   "language": "python",
   "name": "python3"
  },
  "language_info": {
   "codemirror_mode": {
    "name": "ipython",
    "version": 3
   },
   "file_extension": ".py",
   "mimetype": "text/x-python",
   "name": "python",
   "nbconvert_exporter": "python",
   "pygments_lexer": "ipython3",
   "version": "3.9.7"
  }
 },
 "nbformat": 4,
 "nbformat_minor": 5
}
