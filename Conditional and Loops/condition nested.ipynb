{
 "cells": [
  {
   "cell_type": "code",
   "execution_count": 1,
   "id": "30870035",
   "metadata": {},
   "outputs": [
    {
     "name": "stdout",
     "output_type": "stream",
     "text": [
      "5\n",
      "4\n",
      "3\n"
     ]
    }
   ],
   "source": [
    "n=int(input())\n",
    "m=int(input())\n",
    "\n",
    "if n%2==0:\n",
    "    if m%2==0:\n",
    "        print(1)\n",
    "    else :\n",
    "        print(2)\n",
    "else:\n",
    "    print(3)"
   ]
  },
  {
   "cell_type": "code",
   "execution_count": null,
   "id": "841c80ed",
   "metadata": {},
   "outputs": [
    {
     "name": "stdout",
     "output_type": "stream",
     "text": [
      "15\n",
      "Invalid Operation\n",
      "1\n",
      "2\n",
      "5\n",
      "7\n"
     ]
    }
   ],
   "source": [
    "while True:\n",
    "    n = int(input())\n",
    "    if n == 1:\n",
    "        n1 = int(input())\n",
    "        n2 = int(input())\n",
    "        print(int(n1+n2))\n",
    "    elif n == 2:\n",
    "        n1 = int(input())\n",
    "        n2 = int(input())\n",
    "        print(int(n1-n2))\n",
    "    elif n == 3:\n",
    "        n1 = int(input())\n",
    "        n2 = int(input())\n",
    "        print(int(n1*n2))\n",
    "    elif n == 4:\n",
    "        n1 = int(input())\n",
    "        n2 = int(input())\n",
    "        print(int(n1/n2))\n",
    "    elif n == 5:\n",
    "        n1 = int(input())\n",
    "        n2 = int(input())\n",
    "        print(int(n1//n2))\n",
    "    elif n == 6:\n",
    "        exit()\n",
    "    else:\n",
    "        print(\"Invalid Operation\")"
   ]
  },
  {
   "cell_type": "markdown",
   "id": "9fb37023",
   "metadata": {},
   "source": [
    "while loop \n"
   ]
  },
  {
   "cell_type": "code",
   "execution_count": null,
   "id": "0ca164bb",
   "metadata": {},
   "outputs": [],
   "source": [
    "# while loop n natural number\n",
    "n=int(input())\n",
    "count=1\n",
    "while count<=n:\n",
    "    print(1)\n",
    "    count = count+1"
   ]
  },
  {
   "cell_type": "code",
   "execution_count": null,
   "id": "b90dfaef",
   "metadata": {},
   "outputs": [],
   "source": []
  }
 ],
 "metadata": {
  "kernelspec": {
   "display_name": "Python 3 (ipykernel)",
   "language": "python",
   "name": "python3"
  },
  "language_info": {
   "codemirror_mode": {
    "name": "ipython",
    "version": 3
   },
   "file_extension": ".py",
   "mimetype": "text/x-python",
   "name": "python",
   "nbconvert_exporter": "python",
   "pygments_lexer": "ipython3",
   "version": "3.9.7"
  }
 },
 "nbformat": 4,
 "nbformat_minor": 5
}
