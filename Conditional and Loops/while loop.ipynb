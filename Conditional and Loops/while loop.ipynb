{
 "cells": [
  {
   "cell_type": "markdown",
   "id": "53c7cf0c",
   "metadata": {},
   "source": [
    "while loop n natural number"
   ]
  },
  {
   "cell_type": "code",
   "execution_count": 2,
   "id": "01ce9596",
   "metadata": {},
   "outputs": [
    {
     "name": "stdout",
     "output_type": "stream",
     "text": [
      "4\n",
      "1\n",
      "1\n",
      "1\n",
      "1\n"
     ]
    }
   ],
   "source": [
    "n=int(input())\n",
    "count = 1\n",
    "while count <=n:\n",
    "    print(1)\n",
    "    count=count+1\n",
    "    "
   ]
  },
  {
   "cell_type": "code",
   "execution_count": 3,
   "id": "2174bc58",
   "metadata": {},
   "outputs": [
    {
     "name": "stdout",
     "output_type": "stream",
     "text": [
      "5\n",
      "1\n",
      "2\n",
      "3\n",
      "4\n",
      "5\n"
     ]
    }
   ],
   "source": [
    "n=int(input())\n",
    "count =1\n",
    "while count<=n:\n",
    "    print(count)\n",
    "    count=count+1"
   ]
  },
  {
   "cell_type": "code",
   "execution_count": 21,
   "id": "56fb6406",
   "metadata": {},
   "outputs": [
    {
     "name": "stdout",
     "output_type": "stream",
     "text": [
      "4\n",
      "24\n"
     ]
    }
   ],
   "source": [
    "n=int(input())\n",
    "multiply=(1)\n",
    "n3=1\n",
    "while n3<=n:\n",
    "    multiply=multiply*n3\n",
    "    n3=n3+1\n",
    "print(multiply)\n"
   ]
  },
  {
   "cell_type": "markdown",
   "id": "ff383a21",
   "metadata": {},
   "source": [
    "multiplication of n number"
   ]
  },
  {
   "cell_type": "code",
   "execution_count": 8,
   "id": "4f28a02d",
   "metadata": {},
   "outputs": [
    {
     "name": "stdout",
     "output_type": "stream",
     "text": [
      "5\n",
      "15\n"
     ]
    }
   ],
   "source": [
    "n=int(input())\n",
    "add=(0)\n",
    "n3=1\n",
    "while n3<=n:\n",
    "    add=add+n3\n",
    "    n3=n3+1\n",
    "print(add)"
   ]
  },
  {
   "cell_type": "markdown",
   "id": "3069a3dc",
   "metadata": {},
   "source": [
    "sum of all even number form 0 to n"
   ]
  },
  {
   "cell_type": "code",
   "execution_count": 25,
   "id": "cc1c7abf",
   "metadata": {},
   "outputs": [
    {
     "name": "stdout",
     "output_type": "stream",
     "text": [
      "55\n",
      "756\n"
     ]
    }
   ],
   "source": [
    "n=int(input())\n",
    "add=0\n",
    "n3=2\n",
    "if n%2==0:\n",
    "    while n3<=n:\n",
    "        add=add+n3\n",
    "        n3=n3+2\n",
    "else:\n",
    "    n=n-1\n",
    "    while n3<=n:\n",
    "        add=add+n3\n",
    "        n3=n3+2\n",
    "print(add)\n"
   ]
  },
  {
   "cell_type": "code",
   "execution_count": null,
   "id": "ab66b70b",
   "metadata": {},
   "outputs": [],
   "source": [
    "i=0\n",
    "while i<10:\n",
    "print(i)\n",
    "i=i+1"
   ]
  },
  {
   "cell_type": "markdown",
   "id": "f1b136d0",
   "metadata": {},
   "source": [
    "prime number "
   ]
  },
  {
   "cell_type": "code",
   "execution_count": 28,
   "id": "75987f75",
   "metadata": {},
   "outputs": [
    {
     "name": "stdout",
     "output_type": "stream",
     "text": [
      "15\n"
     ]
    }
   ],
   "source": [
    "a=10\n",
    "b=5\n",
    "print(a+b)"
   ]
  },
  {
   "cell_type": "code",
   "execution_count": null,
   "id": "1a9c46bf",
   "metadata": {},
   "outputs": [],
   "source": []
  },
  {
   "cell_type": "code",
   "execution_count": null,
   "id": "7d9150ed",
   "metadata": {},
   "outputs": [],
   "source": []
  }
 ],
 "metadata": {
  "kernelspec": {
   "display_name": "Python 3 (ipykernel)",
   "language": "python",
   "name": "python3"
  },
  "language_info": {
   "codemirror_mode": {
    "name": "ipython",
    "version": 3
   },
   "file_extension": ".py",
   "mimetype": "text/x-python",
   "name": "python",
   "nbconvert_exporter": "python",
   "pygments_lexer": "ipython3",
   "version": "3.9.7"
  }
 },
 "nbformat": 4,
 "nbformat_minor": 5
}
