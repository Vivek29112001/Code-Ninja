{
 "cells": [
  {
   "cell_type": "markdown",
   "id": "26c79e87",
   "metadata": {},
   "source": [
    "Faherenhit to celcius\n"
   ]
  },
  {
   "cell_type": "code",
   "execution_count": 4,
   "id": "6b9d6459",
   "metadata": {},
   "outputs": [
    {
     "name": "stdout",
     "output_type": "stream",
     "text": [
      "15\n",
      "16\n",
      "17\n",
      "15 -9\n"
     ]
    }
   ],
   "source": [
    "Fahrenheit = int(input())\n",
    "E = int(input())\n",
    "W = int(input())\n",
    "while Fahrenheit <= E:\n",
    "    Fahrenheit_to_Celsius = (((Fahrenheit - 32) * 5) / 9)\n",
    "    print(Fahrenheit, int(Fahrenheit_to_Celsius))\n",
    "    Fahrenheit = Fahrenheit + W"
   ]
  }
 ],
 "metadata": {
  "kernelspec": {
   "display_name": "Python 3 (ipykernel)",
   "language": "python",
   "name": "python3"
  },
  "language_info": {
   "codemirror_mode": {
    "name": "ipython",
    "version": 3
   },
   "file_extension": ".py",
   "mimetype": "text/x-python",
   "name": "python",
   "nbconvert_exporter": "python",
   "pygments_lexer": "ipython3",
   "version": "3.9.7"
  }
 },
 "nbformat": 4,
 "nbformat_minor": 5
}
