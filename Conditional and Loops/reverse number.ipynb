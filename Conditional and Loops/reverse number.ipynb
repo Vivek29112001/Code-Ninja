{
 "cells": [
  {
   "cell_type": "markdown",
   "id": "83ab5af8",
   "metadata": {},
   "source": [
    "REVERSE NUMBER"
   ]
  },
  {
   "cell_type": "code",
   "execution_count": 9,
   "id": "8128b37f",
   "metadata": {},
   "outputs": [
    {
     "name": "stdout",
     "output_type": "stream",
     "text": [
      "456\n",
      "654\n"
     ]
    }
   ],
   "source": [
    "a=int(input())\n",
    "rev_number=0\n",
    "while a>0:\n",
    "    remainder=a%10\n",
    "    rev_number=(rev_number*10)+remainder\n",
    "    a=a//10\n",
    "print(rev_number)\n",
    "    "
   ]
  },
  {
   "cell_type": "code",
   "execution_count": null,
   "id": "b43fa5cb",
   "metadata": {},
   "outputs": [],
   "source": []
  }
 ],
 "metadata": {
  "kernelspec": {
   "display_name": "Python 3 (ipykernel)",
   "language": "python",
   "name": "python3"
  },
  "language_info": {
   "codemirror_mode": {
    "name": "ipython",
    "version": 3
   },
   "file_extension": ".py",
   "mimetype": "text/x-python",
   "name": "python",
   "nbconvert_exporter": "python",
   "pygments_lexer": "ipython3",
   "version": "3.9.7"
  }
 },
 "nbformat": 4,
 "nbformat_minor": 5
}
