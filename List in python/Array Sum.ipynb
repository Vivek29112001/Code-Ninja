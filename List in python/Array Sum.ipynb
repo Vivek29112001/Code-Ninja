{
 "cells": [
  {
   "cell_type": "code",
   "execution_count": 2,
   "id": "9786304c",
   "metadata": {},
   "outputs": [
    {
     "name": "stdout",
     "output_type": "stream",
     "text": [
      "4\n",
      "15 22 55 66\n",
      "158\n"
     ]
    }
   ],
   "source": [
    "n=input()\n",
    "arr=input().split()\n",
    "sum=0\n",
    "for x in range(len(arr)):\n",
    "    p=int(arr[x])\n",
    "    sum=sum+p\n",
    "print(sum)\n"
   ]
  },
  {
   "cell_type": "code",
   "execution_count": 7,
   "id": "85ffc4e4",
   "metadata": {},
   "outputs": [
    {
     "name": "stdout",
     "output_type": "stream",
     "text": [
      "4\n",
      "5 6 4 1\n",
      "16\n"
     ]
    }
   ],
   "source": [
    "n=int(input())\n",
    "arr=input().split()\n",
    "sum=0\n",
    "for x in range(len(arr)):\n",
    "    p=int(arr[x])\n",
    "    sum=sum+p\n",
    "print(sum)"
   ]
  }
 ],
 "metadata": {
  "kernelspec": {
   "display_name": "Python 3 (ipykernel)",
   "language": "python",
   "name": "python3"
  },
  "language_info": {
   "codemirror_mode": {
    "name": "ipython",
    "version": 3
   },
   "file_extension": ".py",
   "mimetype": "text/x-python",
   "name": "python",
   "nbconvert_exporter": "python",
   "pygments_lexer": "ipython3",
   "version": "3.9.7"
  }
 },
 "nbformat": 4,
 "nbformat_minor": 5
}
