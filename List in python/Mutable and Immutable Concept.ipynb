{
 "cells": [
  {
   "cell_type": "markdown",
   "id": "03cf6394",
   "metadata": {},
   "source": [
    "# Mutable and Immutable Concept"
   ]
  },
  {
   "cell_type": "markdown",
   "id": "5fbc4438",
   "metadata": {},
   "source": [
    "list are muitable"
   ]
  },
  {
   "cell_type": "code",
   "execution_count": 2,
   "id": "d4c2dcc5",
   "metadata": {},
   "outputs": [
    {
     "name": "stdout",
     "output_type": "stream",
     "text": [
      "3\n"
     ]
    }
   ],
   "source": [
    "#muitable\n",
    "x=3\n",
    "a=3\n",
    "print(a)"
   ]
  },
  {
   "cell_type": "code",
   "execution_count": 3,
   "id": "326fa05c",
   "metadata": {},
   "outputs": [
    {
     "data": {
      "text/plain": [
       "2829441460592"
      ]
     },
     "execution_count": 3,
     "metadata": {},
     "output_type": "execute_result"
    }
   ],
   "source": [
    "id(x)"
   ]
  },
  {
   "cell_type": "code",
   "execution_count": 4,
   "id": "545ded31",
   "metadata": {},
   "outputs": [
    {
     "data": {
      "text/plain": [
       "2829441460592"
      ]
     },
     "execution_count": 4,
     "metadata": {},
     "output_type": "execute_result"
    }
   ],
   "source": [
    "id(a)"
   ]
  },
  {
   "cell_type": "markdown",
   "id": "a9c2b058",
   "metadata": {},
   "source": [
    "# Immutable"
   ]
  },
  {
   "cell_type": "code",
   "execution_count": 11,
   "id": "96a6b1ee",
   "metadata": {},
   "outputs": [],
   "source": [
    "li=[1,2,3,4,5]\n",
    "li2=li\n",
    "li2=[3,4,5,6,]\n",
    "li2[1]=4"
   ]
  },
  {
   "cell_type": "code",
   "execution_count": 12,
   "id": "b41d2b15",
   "metadata": {},
   "outputs": [
    {
     "name": "stdout",
     "output_type": "stream",
     "text": [
      "[1, 2, 3, 4, 5]\n",
      "[3, 4, 5, 6]\n"
     ]
    }
   ],
   "source": [
    "print(li)\n",
    "print(li2)"
   ]
  }
 ],
 "metadata": {
  "kernelspec": {
   "display_name": "Python 3 (ipykernel)",
   "language": "python",
   "name": "python3"
  },
  "language_info": {
   "codemirror_mode": {
    "name": "ipython",
    "version": 3
   },
   "file_extension": ".py",
   "mimetype": "text/x-python",
   "name": "python",
   "nbconvert_exporter": "python",
   "pygments_lexer": "ipython3",
   "version": "3.9.7"
  }
 },
 "nbformat": 4,
 "nbformat_minor": 5
}
