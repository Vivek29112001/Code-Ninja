{
 "cells": [
  {
   "cell_type": "code",
   "execution_count": 1,
   "id": "246f6f58",
   "metadata": {},
   "outputs": [],
   "source": [
    "li=[a,b,c]"
   ]
  },
  {
   "cell_type": "code",
   "execution_count": null,
   "id": "ce5c5c0e",
   "metadata": {},
   "outputs": [],
   "source": []
  },
  {
   "cell_type": "code",
   "execution_count": 3,
   "id": "e8398ad6",
   "metadata": {},
   "outputs": [
    {
     "data": {
      "text/plain": [
       "list"
      ]
     },
     "execution_count": 3,
     "metadata": {},
     "output_type": "execute_result"
    }
   ],
   "source": [
    "type(li)"
   ]
  },
  {
   "cell_type": "markdown",
   "id": "f34b25e8",
   "metadata": {},
   "source": [
    "Acess and change Element in list"
   ]
  },
  {
   "cell_type": "markdown",
   "id": "e94b75fe",
   "metadata": {},
   "source": [
    "list indexing start from 0 to n-1"
   ]
  },
  {
   "cell_type": "code",
   "execution_count": 4,
   "id": "b100823c",
   "metadata": {},
   "outputs": [
    {
     "data": {
      "text/plain": [
       "1"
      ]
     },
     "execution_count": 4,
     "metadata": {},
     "output_type": "execute_result"
    }
   ],
   "source": [
    "li[0]"
   ]
  },
  {
   "cell_type": "code",
   "execution_count": 5,
   "id": "5dfc5d7b",
   "metadata": {},
   "outputs": [],
   "source": [
    "li=[1,45,2,5,6]"
   ]
  },
  {
   "cell_type": "code",
   "execution_count": 8,
   "id": "6ada9dc0",
   "metadata": {},
   "outputs": [],
   "source": [
    "li[3] =\"ronit\""
   ]
  },
  {
   "cell_type": "code",
   "execution_count": 9,
   "id": "77149d40",
   "metadata": {},
   "outputs": [
    {
     "name": "stdout",
     "output_type": "stream",
     "text": [
      "[1, 45, 2, 'ronit', 6]\n"
     ]
    }
   ],
   "source": [
    "print(li)"
   ]
  },
  {
   "cell_type": "markdown",
   "id": "4d7c3cb1",
   "metadata": {},
   "source": [
    "Slicing of a list"
   ]
  },
  {
   "cell_type": "code",
   "execution_count": 10,
   "id": "bf8fc889",
   "metadata": {},
   "outputs": [
    {
     "data": {
      "text/plain": [
       "[2, 'ronit']"
      ]
     },
     "execution_count": 10,
     "metadata": {},
     "output_type": "execute_result"
    }
   ],
   "source": [
    "li[2:4]"
   ]
  },
  {
   "cell_type": "markdown",
   "id": "a86d6661",
   "metadata": {},
   "source": [
    "Inseert and append element in list"
   ]
  },
  {
   "cell_type": "code",
   "execution_count": 12,
   "id": "5e684d4f",
   "metadata": {},
   "outputs": [],
   "source": [
    "li.append(\"Ankush\")"
   ]
  },
  {
   "cell_type": "code",
   "execution_count": 13,
   "id": "c2febec8",
   "metadata": {},
   "outputs": [
    {
     "name": "stdout",
     "output_type": "stream",
     "text": [
      "[1, 45, 2, 'ronit', 6, 'Ankush', 'Ankush']\n"
     ]
    }
   ],
   "source": [
    "print(li)"
   ]
  },
  {
   "cell_type": "code",
   "execution_count": 27,
   "id": "4918f4aa",
   "metadata": {},
   "outputs": [
    {
     "name": "stdout",
     "output_type": "stream",
     "text": [
      "[1, 45, 2, 'vivek', 'ronit', 6, 'Ankush', 'Ankush']\n"
     ]
    }
   ],
   "source": [
    "print(li)\n"
   ]
  },
  {
   "cell_type": "code",
   "execution_count": 28,
   "id": "572906af",
   "metadata": {},
   "outputs": [],
   "source": [
    "li.insert(4,\"vivek\")"
   ]
  },
  {
   "cell_type": "code",
   "execution_count": 29,
   "id": "36ea0697",
   "metadata": {},
   "outputs": [
    {
     "data": {
      "text/plain": [
       "[1, 45, 2, 'vivek', 'vivek', 'ronit', 6, 'Ankush', 'Ankush']"
      ]
     },
     "execution_count": 29,
     "metadata": {},
     "output_type": "execute_result"
    }
   ],
   "source": [
    "li\n"
   ]
  },
  {
   "cell_type": "code",
   "execution_count": 33,
   "id": "22252f18",
   "metadata": {},
   "outputs": [
    {
     "ename": "TypeError",
     "evalue": "list.extend() takes exactly one argument (3 given)",
     "output_type": "error",
     "traceback": [
      "\u001b[1;31m---------------------------------------------------------------------------\u001b[0m",
      "\u001b[1;31mTypeError\u001b[0m                                 Traceback (most recent call last)",
      "\u001b[1;32mC:\\Users\\VIVEKS~1\\AppData\\Local\\Temp/ipykernel_4512/3925353962.py\u001b[0m in \u001b[0;36m<module>\u001b[1;34m\u001b[0m\n\u001b[1;32m----> 1\u001b[1;33m \u001b[0mli\u001b[0m\u001b[1;33m.\u001b[0m\u001b[0mextend\u001b[0m\u001b[1;33m(\u001b[0m\u001b[1;36m9\u001b[0m\u001b[1;33m,\u001b[0m\u001b[1;36m10\u001b[0m\u001b[1;33m,\u001b[0m\u001b[1;36m11\u001b[0m\u001b[1;33m)\u001b[0m\u001b[1;33m\u001b[0m\u001b[1;33m\u001b[0m\u001b[0m\n\u001b[0m",
      "\u001b[1;31mTypeError\u001b[0m: list.extend() takes exactly one argument (3 given)"
     ]
    }
   ],
   "source": [
    "li.extend([9,10,11])"
   ]
  },
  {
   "cell_type": "code",
   "execution_count": 35,
   "id": "c59605eb",
   "metadata": {},
   "outputs": [
    {
     "data": {
      "text/plain": [
       "[1, 45, 2, 'vivek', 'vivek', 'ronit', 6, 'Ankush', 'Ankush', 9, 10, 11]"
      ]
     },
     "execution_count": 35,
     "metadata": {},
     "output_type": "execute_result"
    }
   ],
   "source": [
    "li"
   ]
  },
  {
   "cell_type": "markdown",
   "id": "638e06c1",
   "metadata": {},
   "source": [
    "removing element from the list"
   ]
  },
  {
   "cell_type": "code",
   "execution_count": 36,
   "id": "3fef3906",
   "metadata": {},
   "outputs": [
    {
     "data": {
      "text/plain": [
       "[1, 45, 2, 'vivek', 'vivek', 'ronit', 6, 'Ankush', 'Ankush', 9, 10, 11]"
      ]
     },
     "execution_count": 36,
     "metadata": {},
     "output_type": "execute_result"
    }
   ],
   "source": [
    "li"
   ]
  },
  {
   "cell_type": "code",
   "execution_count": 48,
   "id": "8c5ca724",
   "metadata": {},
   "outputs": [],
   "source": [
    "li.remove('vivek' )"
   ]
  },
  {
   "cell_type": "code",
   "execution_count": 49,
   "id": "22f7c9bd",
   "metadata": {},
   "outputs": [
    {
     "data": {
      "text/plain": [
       "[1, 45, 2, 'ronit', 6, 'Ankush', 'Ankush', 9, 10, 11]"
      ]
     },
     "execution_count": 49,
     "metadata": {},
     "output_type": "execute_result"
    }
   ],
   "source": [
    "li"
   ]
  },
  {
   "cell_type": "code",
   "execution_count": 56,
   "id": "b4d5762d",
   "metadata": {},
   "outputs": [
    {
     "data": {
      "text/plain": [
       "'Ankush'"
      ]
     },
     "execution_count": 56,
     "metadata": {},
     "output_type": "execute_result"
    }
   ],
   "source": [
    "li.pop(5)"
   ]
  },
  {
   "cell_type": "code",
   "execution_count": 57,
   "id": "cd022c70",
   "metadata": {},
   "outputs": [
    {
     "data": {
      "text/plain": [
       "[1, 45, 2, 'ronit', 6, 10]"
      ]
     },
     "execution_count": 57,
     "metadata": {},
     "output_type": "execute_result"
    }
   ],
   "source": [
    "li"
   ]
  },
  {
   "cell_type": "code",
   "execution_count": null,
   "id": "21370cff",
   "metadata": {},
   "outputs": [],
   "source": []
  }
 ],
 "metadata": {
  "kernelspec": {
   "display_name": "Python 3 (ipykernel)",
   "language": "python",
   "name": "python3"
  },
  "language_info": {
   "codemirror_mode": {
    "name": "ipython",
    "version": 3
   },
   "file_extension": ".py",
   "mimetype": "text/x-python",
   "name": "python",
   "nbconvert_exporter": "python",
   "pygments_lexer": "ipython3",
   "version": "3.9.7"
  }
 },
 "nbformat": 4,
 "nbformat_minor": 5
}
