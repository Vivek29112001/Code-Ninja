{
 "cells": [
  {
   "cell_type": "code",
   "execution_count": 3,
   "id": "999693c1",
   "metadata": {},
   "outputs": [
    {
     "name": "stdout",
     "output_type": "stream",
     "text": [
      "5\n",
      "1\n",
      "2\n",
      "3\n",
      "4\n",
      "5\n",
      "['1', '2', '3', '4', '5']\n"
     ]
    }
   ],
   "source": [
    "n = int(input())\n",
    "li = []\n",
    "for i in range(n):\n",
    "    li.append(input())\n",
    "print(li)"
   ]
  },
  {
   "cell_type": "code",
   "execution_count": 7,
   "id": "bbb36d43",
   "metadata": {},
   "outputs": [
    {
     "name": "stdout",
     "output_type": "stream",
     "text": [
      "5\n"
     ]
    }
   ],
   "source": [
    "n= int(input())\n",
    "\n"
   ]
  },
  {
   "cell_type": "code",
   "execution_count": 8,
   "id": "f99ec80c",
   "metadata": {},
   "outputs": [
    {
     "name": "stdout",
     "output_type": "stream",
     "text": [
      "1 2 3 4 5\n"
     ]
    }
   ],
   "source": [
    "str=input()"
   ]
  },
  {
   "cell_type": "code",
   "execution_count": 9,
   "id": "4803cb5f",
   "metadata": {},
   "outputs": [
    {
     "data": {
      "text/plain": [
       "'1 2 3 4 5'"
      ]
     },
     "execution_count": 9,
     "metadata": {},
     "output_type": "execute_result"
    }
   ],
   "source": [
    "str"
   ]
  },
  {
   "cell_type": "code",
   "execution_count": 10,
   "id": "ae2df772",
   "metadata": {},
   "outputs": [],
   "source": [
    "li = []"
   ]
  },
  {
   "cell_type": "code",
   "execution_count": 11,
   "id": "fe5d286b",
   "metadata": {},
   "outputs": [],
   "source": [
    "str_split=str.split(' ')"
   ]
  },
  {
   "cell_type": "code",
   "execution_count": 12,
   "id": "814d31ee",
   "metadata": {},
   "outputs": [
    {
     "data": {
      "text/plain": [
       "['1', '2', '3', '4', '5']"
      ]
     },
     "execution_count": 12,
     "metadata": {},
     "output_type": "execute_result"
    }
   ],
   "source": [
    "str_split"
   ]
  },
  {
   "cell_type": "code",
   "execution_count": 13,
   "id": "8fe680e2",
   "metadata": {},
   "outputs": [
    {
     "name": "stdout",
     "output_type": "stream",
     "text": [
      "1,2,3,4,5\n"
     ]
    }
   ],
   "source": [
    "str= input()"
   ]
  },
  {
   "cell_type": "code",
   "execution_count": 14,
   "id": "7b90edc1",
   "metadata": {},
   "outputs": [],
   "source": [
    "str_split=str.split(',')"
   ]
  },
  {
   "cell_type": "code",
   "execution_count": 15,
   "id": "659ad27e",
   "metadata": {},
   "outputs": [
    {
     "data": {
      "text/plain": [
       "['1', '2', '3', '4', '5']"
      ]
     },
     "execution_count": 15,
     "metadata": {},
     "output_type": "execute_result"
    }
   ],
   "source": [
    "str_split"
   ]
  },
  {
   "cell_type": "code",
   "execution_count": 16,
   "id": "33fb3fe8",
   "metadata": {},
   "outputs": [],
   "source": [
    "li =[]"
   ]
  },
  {
   "cell_type": "code",
   "execution_count": 19,
   "id": "d8c84e69",
   "metadata": {},
   "outputs": [],
   "source": [
    "for ele in str_split:\n",
    "    li.append(int(ele))"
   ]
  },
  {
   "cell_type": "code",
   "execution_count": 20,
   "id": "0ff21a34",
   "metadata": {},
   "outputs": [
    {
     "data": {
      "text/plain": [
       "[1, 2, 3, 4, 5]"
      ]
     },
     "execution_count": 20,
     "metadata": {},
     "output_type": "execute_result"
    }
   ],
   "source": [
    "li"
   ]
  },
  {
   "cell_type": "markdown",
   "id": "0f02e2f5",
   "metadata": {},
   "source": [
    "all element in  a single line code"
   ]
  },
  {
   "cell_type": "code",
   "execution_count": 21,
   "id": "ad9b7aba",
   "metadata": {},
   "outputs": [
    {
     "name": "stdout",
     "output_type": "stream",
     "text": [
      "1 2 3 4 5 6 7\n"
     ]
    }
   ],
   "source": [
    "li =[int(x) for x in input().split()]"
   ]
  },
  {
   "cell_type": "code",
   "execution_count": 22,
   "id": "86ee4acd",
   "metadata": {},
   "outputs": [
    {
     "data": {
      "text/plain": [
       "[1, 2, 3, 4, 5, 6, 7]"
      ]
     },
     "execution_count": 22,
     "metadata": {},
     "output_type": "execute_result"
    }
   ],
   "source": [
    "li"
   ]
  },
  {
   "cell_type": "code",
   "execution_count": 23,
   "id": "802f2762",
   "metadata": {},
   "outputs": [
    {
     "name": "stdout",
     "output_type": "stream",
     "text": [
      "1\n",
      "2\n",
      "3\n",
      "4\n",
      "5\n",
      "6\n",
      "7\n"
     ]
    }
   ],
   "source": [
    "for ele in li:\n",
    "    print(ele)"
   ]
  },
  {
   "cell_type": "code",
   "execution_count": 28,
   "id": "2acdbbd7",
   "metadata": {},
   "outputs": [
    {
     "name": "stdout",
     "output_type": "stream",
     "text": [
      "15\n",
      "['15']\n"
     ]
    }
   ],
   "source": [
    "li = [x for x in input().split()]\n",
    "print(li)"
   ]
  },
  {
   "cell_type": "code",
   "execution_count": 25,
   "id": "7027fd16",
   "metadata": {},
   "outputs": [
    {
     "name": "stdout",
     "output_type": "stream",
     "text": [
      "5\n",
      "1 2 3 4 5\n",
      "1\n",
      "2\n",
      "3\n",
      "4\n",
      "5\n"
     ]
    }
   ],
   "source": [
    "n=int(input())\n",
    "li=[int(x) for x in input().split()]\n",
    "for ele in li:\n",
    "    print(ele)"
   ]
  }
 ],
 "metadata": {
  "kernelspec": {
   "display_name": "Python 3 (ipykernel)",
   "language": "python",
   "name": "python3"
  },
  "language_info": {
   "codemirror_mode": {
    "name": "ipython",
    "version": 3
   },
   "file_extension": ".py",
   "mimetype": "text/x-python",
   "name": "python",
   "nbconvert_exporter": "python",
   "pygments_lexer": "ipython3",
   "version": "3.9.7"
  }
 },
 "nbformat": 4,
 "nbformat_minor": 5
}
