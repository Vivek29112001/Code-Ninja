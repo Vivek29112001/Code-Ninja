{
 "cells": [
  {
   "cell_type": "code",
   "execution_count": null,
   "id": "db6f0645",
   "metadata": {},
   "outputs": [],
   "source": [
    "n=input()\n",
    "l=list(n)\n",
    "n=int(n)\n",
    "x=len(l)\n",
    "s=0\n",
    "for i in l:\n",
    "    s+=int(i)**x\n",
    "if s==n:\n",
    "    print(\"true\")\n",
    "else:\n",
    "    print(\"false\")"
   ]
  },
  {
   "cell_type": "code",
   "execution_count": null,
   "id": "87256d67",
   "metadata": {},
   "outputs": [],
   "source": []
  },
  {
   "cell_type": "code",
   "execution_count": null,
   "id": "1b9d5a02",
   "metadata": {},
   "outputs": [],
   "source": []
  }
 ],
 "metadata": {
  "kernelspec": {
   "display_name": "Python 3 (ipykernel)",
   "language": "python",
   "name": "python3"
  },
  "language_info": {
   "codemirror_mode": {
    "name": "ipython",
    "version": 3
   },
   "file_extension": ".py",
   "mimetype": "text/x-python",
   "name": "python",
   "nbconvert_exporter": "python",
   "pygments_lexer": "ipython3",
   "version": "3.9.7"
  }
 },
 "nbformat": 4,
 "nbformat_minor": 5
}
