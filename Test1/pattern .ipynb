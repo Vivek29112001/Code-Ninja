{
 "cells": [
  {
   "cell_type": "code",
   "execution_count": 12,
   "id": "d3accc24",
   "metadata": {},
   "outputs": [
    {
     "name": "stdout",
     "output_type": "stream",
     "text": [
      "5\n",
      "5432*\n",
      "543*1\n",
      "54*21\n",
      "5*321\n",
      "*4321\n"
     ]
    }
   ],
   "source": [
    "n=int(input())\n",
    "for i in range(1,n+1):\n",
    "    for j in range(n,0,-1):\n",
    "        if j==i:\n",
    "            print(\"*\",end=\"\")\n",
    "        else:\n",
    "        \tprint(j,end=\"\")\n",
    "    print()"
   ]
  },
  {
   "cell_type": "code",
   "execution_count": 13,
   "id": "f41d3cd3",
   "metadata": {},
   "outputs": [
    {
     "name": "stdout",
     "output_type": "stream",
     "text": [
      "4\n",
      "*000*000*\n",
      "0*00*00*0\n",
      "00*0*0*00\n",
      "000***000\n"
     ]
    }
   ],
   "source": [
    "n=int(input())\n",
    "l=[[0]*(2*n+1) for i in range(n)]\n",
    "for i in range(n):\n",
    "    for j in range(n):\n",
    "        if i==j:\n",
    "            l[i][j]=\"*\"\n",
    "for i in range(n):\n",
    "    l[i][n]=\"*\"\n",
    "#print(l)\n",
    "for i in range(n):\n",
    "    for j in range(2*n+1):\n",
    "        if i+j==2*n:\n",
    "            l[i][j]=\"*\"\n",
    "for i in l:\n",
    "    for j in i:\n",
    "        print(j,end=\"\")\n",
    "    print()"
   ]
  }
 ],
 "metadata": {
  "kernelspec": {
   "display_name": "Python 3 (ipykernel)",
   "language": "python",
   "name": "python3"
  },
  "language_info": {
   "codemirror_mode": {
    "name": "ipython",
    "version": 3
   },
   "file_extension": ".py",
   "mimetype": "text/x-python",
   "name": "python",
   "nbconvert_exporter": "python",
   "pygments_lexer": "ipython3",
   "version": "3.9.7"
  }
 },
 "nbformat": 4,
 "nbformat_minor": 5
}
