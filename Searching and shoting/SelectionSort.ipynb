{
 "cells": [
  {
   "cell_type": "markdown",
   "id": "c8726523",
   "metadata": {},
   "source": [
    "# selectionSort"
   ]
  },
  {
   "cell_type": "code",
   "execution_count": 2,
   "id": "f00c9ef7",
   "metadata": {},
   "outputs": [],
   "source": [
    "def selection_sort(A):\n",
    "    for i in range(len(A)):\n",
    "        min_index=i\n",
    "        for j in range(i+1, len(A)):\n",
    "            if A[j] < A[min_index]:\n",
    "                min_index=j\n",
    "        A[i], A[min_index]= A[min_index], A[i]\n",
    "    return A"
   ]
  },
  {
   "cell_type": "code",
   "execution_count": null,
   "id": "577d7a3f",
   "metadata": {},
   "outputs": [],
   "source": [
    "def arePermutation(str1, str2):\n",
    "    \n",
    "    n1 = len(str1) \n",
    "    n2 = len(str2)\n",
    "    if (n1 != n2):\n",
    "        return False\n",
    "  \n",
    "    # Sort both strings \n",
    "    a = sorted(str1) \n",
    "    str1 = \"\".join(a) \n",
    "    b = sorted(str2) \n",
    "    str2 = \"\".join(b) \n",
    "  \n",
    "    # Compare sorted strings \n",
    "    for i in range(0, n1, 1): \n",
    "        if (str1[i] != str2[i]): \n",
    "            return False\n",
    "  \n",
    "    return True\n",
    "  \n",
    "str1 = input()\n",
    "str2 = input()\n",
    "if (arePermutation(str1, str2)):\n",
    "    print(\"true\") \n",
    "else: \n",
    "    print(\"false\") "
   ]
  },
  {
   "cell_type": "code",
   "execution_count": 4,
   "id": "9f529002",
   "metadata": {},
   "outputs": [
    {
     "data": {
      "text/plain": [
       "[3, 4, 5, 9, 13]"
      ]
     },
     "execution_count": 4,
     "metadata": {},
     "output_type": "execute_result"
    }
   ],
   "source": [
    "selection_sort([13,4,9,5,3])"
   ]
  }
 ],
 "metadata": {
  "kernelspec": {
   "display_name": "Python 3 (ipykernel)",
   "language": "python",
   "name": "python3"
  },
  "language_info": {
   "codemirror_mode": {
    "name": "ipython",
    "version": 3
   },
   "file_extension": ".py",
   "mimetype": "text/x-python",
   "name": "python",
   "nbconvert_exporter": "python",
   "pygments_lexer": "ipython3",
   "version": "3.9.7"
  }
 },
 "nbformat": 4,
 "nbformat_minor": 5
}
