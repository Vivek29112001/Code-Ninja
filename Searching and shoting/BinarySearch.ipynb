{
 "cells": [
  {
   "cell_type": "markdown",
   "id": "5618a690",
   "metadata": {},
   "source": [
    "# Binary Search\n"
   ]
  },
  {
   "cell_type": "code",
   "execution_count": 1,
   "id": "81aa16aa",
   "metadata": {},
   "outputs": [],
   "source": [
    "def binary_search(Array,element,debug=False):\n",
    "    lower_bound=0\n",
    "    upper_bound=len(array)-1\n",
    "    \n",
    "    while lower_bound <= upper_bound:\n",
    "        middle=(lower_bound+upper_bound)//2 #integer\n",
    "        if debug:\n",
    "            print(\"Lower_bound\",lower_bound)\n",
    "            print(\"Upper_bound\",upper_bound)\n",
    "            print(\"Middle\", middle)\n",
    "        if element == array[middle]:\n",
    "            return \"your value is found at middle at index\", middle\n",
    "        elif element < array[middle]:  #lesser condition\n",
    "            #no change in lower bound \n",
    "            upper_bound = middle-1\n",
    "        else: #greater condition\n",
    "            #upper bound remain same but ower bound wil change\n",
    "            lower_bound = middle +1\n",
    "        \n",
    "    return \"Your element is not available in the given array\""
   ]
  },
  {
   "cell_type": "code",
   "execution_count": 12,
   "id": "223a2dcd",
   "metadata": {},
   "outputs": [
    {
     "name": "stdout",
     "output_type": "stream",
     "text": [
      "Lower_bound 0\n",
      "Upper_bound 7\n",
      "Middle 3\n",
      "Lower_bound 4\n",
      "Upper_bound 7\n",
      "Middle 5\n",
      "Lower_bound 6\n",
      "Upper_bound 7\n",
      "Middle 6\n",
      "Lower_bound 7\n",
      "Upper_bound 7\n",
      "Middle 7\n"
     ]
    },
    {
     "data": {
      "text/plain": [
       "('your value is found at middle at index', 7)"
      ]
     },
     "execution_count": 12,
     "metadata": {},
     "output_type": "execute_result"
    }
   ],
   "source": [
    "array=[12,34,45,56,56,56,67,89]\n",
    "x1=12\n",
    "x2=89\n",
    "binary_search(array,x2,debug=True)"
   ]
  },
  {
   "cell_type": "code",
   "execution_count": null,
   "id": "716c8413",
   "metadata": {},
   "outputs": [],
   "source": []
  }
 ],
 "metadata": {
  "kernelspec": {
   "display_name": "Python 3 (ipykernel)",
   "language": "python",
   "name": "python3"
  },
  "language_info": {
   "codemirror_mode": {
    "name": "ipython",
    "version": 3
   },
   "file_extension": ".py",
   "mimetype": "text/x-python",
   "name": "python",
   "nbconvert_exporter": "python",
   "pygments_lexer": "ipython3",
   "version": "3.9.7"
  }
 },
 "nbformat": 4,
 "nbformat_minor": 5
}
