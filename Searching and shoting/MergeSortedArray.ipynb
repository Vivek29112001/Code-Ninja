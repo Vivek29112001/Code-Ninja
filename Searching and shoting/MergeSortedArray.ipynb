{
 "cells": [
  {
   "cell_type": "markdown",
   "id": "6a53e82e",
   "metadata": {},
   "source": [
    "# MergeSortedArray"
   ]
  },
  {
   "cell_type": "code",
   "execution_count": null,
   "id": "d29308a4",
   "metadata": {},
   "outputs": [],
   "source": [
    "def mergetwoarray(a1,a2, debug=False):\n",
    "    i,j=0,0\n",
    "    len1,len2=len(a1), len(a2)\n",
    "    new_array=[]\n",
    "    \n",
    "    while (i<len1 and j<len2):\n",
    "        if a1[i]<a2[j]:\n",
    "            new_array.append(a1[i])\n",
    "            i=i+1\n",
    "        else:\n",
    "            new_array.append(a2[j])\n",
    "    while(i<len1):\n",
    "        new_array.append(a1[i])\n",
    "        i=i+1\n",
    "    while (j<len2):\n",
    "        new_array.append(a2[j])\n",
    "        j=j+1\n",
    "    return new_array"
   ]
  },
  {
   "cell_type": "code",
   "execution_count": null,
   "id": "d9588940",
   "metadata": {},
   "outputs": [],
   "source": [
    "a1=[1,3,5,7,9]\n",
    "a2=[2,4,6,8,10]\n",
    "mergetwoarray(a1,a2)"
   ]
  }
 ],
 "metadata": {
  "kernelspec": {
   "display_name": "Python 3 (ipykernel)",
   "language": "python",
   "name": "python3"
  },
  "language_info": {
   "codemirror_mode": {
    "name": "ipython",
    "version": 3
   },
   "file_extension": ".py",
   "mimetype": "text/x-python",
   "name": "python",
   "nbconvert_exporter": "python",
   "pygments_lexer": "ipython3",
   "version": "3.9.7"
  }
 },
 "nbformat": 4,
 "nbformat_minor": 5
}
