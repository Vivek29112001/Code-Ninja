{
 "cells": [
  {
   "cell_type": "markdown",
   "id": "6129edde",
   "metadata": {},
   "source": [
    "count number of vowles, consonants, digits, and special character instring"
   ]
  },
  {
   "cell_type": "code",
   "execution_count": 4,
   "id": "8e31afb4",
   "metadata": {},
   "outputs": [
    {
     "name": "stdout",
     "output_type": "stream",
     "text": [
      "4 37 4 4\n"
     ]
    }
   ],
   "source": [
    "def countInString(str):\n",
    "    v,c,d,s = 0,0,0,0\n",
    "    for char in str:\n",
    "        if((char>='a' and char<='z') or (char>='A' and char<='Z')):\n",
    "            char=char.lower()\n",
    "            if(char=='a' or char=='e' or char=='i' or char=='o' or char=='u'):\n",
    "                v+=1\n",
    "            else:\n",
    "                c+=1\n",
    "        elif(char>='0' and char<='9'):\n",
    "            d+=1\n",
    "        else:\n",
    "            s+=1\n",
    "    return v,c,d,s\n",
    "str=\"sdgyqwugasczbnmnmnbzcvsugfjjhzkjkj2134 @#$uhdsfjd\"\n",
    "v,c,d,s = countInString(str)\n",
    "print(v,c,d,s)"
   ]
  },
  {
   "cell_type": "code",
   "execution_count": null,
   "id": "efb51262",
   "metadata": {},
   "outputs": [],
   "source": []
  }
 ],
 "metadata": {
  "kernelspec": {
   "display_name": "Python 3 (ipykernel)",
   "language": "python",
   "name": "python3"
  },
  "language_info": {
   "codemirror_mode": {
    "name": "ipython",
    "version": 3
   },
   "file_extension": ".py",
   "mimetype": "text/x-python",
   "name": "python",
   "nbconvert_exporter": "python",
   "pygments_lexer": "ipython3",
   "version": "3.9.7"
  }
 },
 "nbformat": 4,
 "nbformat_minor": 5
}
