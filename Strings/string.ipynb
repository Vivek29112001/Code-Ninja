{
 "cells": [
  {
   "cell_type": "code",
   "execution_count": 1,
   "id": "bf6904b7",
   "metadata": {},
   "outputs": [],
   "source": [
    "s=\"dvcfffg\""
   ]
  },
  {
   "cell_type": "code",
   "execution_count": 2,
   "id": "2cc7f8e7",
   "metadata": {},
   "outputs": [
    {
     "name": "stdout",
     "output_type": "stream",
     "text": [
      "dvcfffg\n"
     ]
    }
   ],
   "source": [
    "print(s)"
   ]
  },
  {
   "cell_type": "markdown",
   "id": "1c86de74",
   "metadata": {},
   "source": [
    "### for multi line string we use triple codes''' '''"
   ]
  },
  {
   "cell_type": "code",
   "execution_count": 3,
   "id": "5c40bfdd",
   "metadata": {},
   "outputs": [
    {
     "name": "stdout",
     "output_type": "stream",
     "text": [
      "c\n"
     ]
    }
   ],
   "source": [
    "s=\"abcd\"\n",
    "print(s[-2])"
   ]
  },
  {
   "cell_type": "markdown",
   "id": "6ab5fa83",
   "metadata": {},
   "source": [
    "### STRINGS ARE IMMUTABLE IN PYTHON"
   ]
  },
  {
   "cell_type": "code",
   "execution_count": 6,
   "id": "995ddeb7",
   "metadata": {},
   "outputs": [
    {
     "name": "stdout",
     "output_type": "stream",
     "text": [
      "They are same\n"
     ]
    }
   ],
   "source": [
    "s=\"abcd\"\n",
    "a=\"abcd\"\n",
    "if id(s)==id(a):\n",
    "    print(\"They are same\")\n",
    "else:\n",
    "    print(\"they are not same\")"
   ]
  },
  {
   "cell_type": "markdown",
   "id": "8d3eb482",
   "metadata": {},
   "source": [
    "# Concatenation Of String"
   ]
  },
  {
   "cell_type": "code",
   "execution_count": 7,
   "id": "3b665c02",
   "metadata": {},
   "outputs": [],
   "source": [
    "a='red'"
   ]
  },
  {
   "cell_type": "code",
   "execution_count": 8,
   "id": "d50c4e90",
   "metadata": {},
   "outputs": [
    {
     "data": {
      "text/plain": [
       "'red'"
      ]
     },
     "execution_count": 8,
     "metadata": {},
     "output_type": "execute_result"
    }
   ],
   "source": [
    "a"
   ]
  },
  {
   "cell_type": "code",
   "execution_count": 9,
   "id": "88066d8b",
   "metadata": {},
   "outputs": [],
   "source": [
    "a=a+'blue'"
   ]
  },
  {
   "cell_type": "code",
   "execution_count": 10,
   "id": "0d334d91",
   "metadata": {},
   "outputs": [
    {
     "data": {
      "text/plain": [
       "'redblue'"
      ]
     },
     "execution_count": 10,
     "metadata": {},
     "output_type": "execute_result"
    }
   ],
   "source": [
    "a"
   ]
  },
  {
   "cell_type": "code",
   "execution_count": 11,
   "id": "911b6501",
   "metadata": {},
   "outputs": [],
   "source": [
    "a=a+\"blue\"+\"green\""
   ]
  },
  {
   "cell_type": "code",
   "execution_count": 12,
   "id": "05f68780",
   "metadata": {},
   "outputs": [
    {
     "data": {
      "text/plain": [
       "'redbluebluegreen'"
      ]
     },
     "execution_count": 12,
     "metadata": {},
     "output_type": "execute_result"
    }
   ],
   "source": [
    "a"
   ]
  },
  {
   "cell_type": "code",
   "execution_count": 13,
   "id": "bd5097d9",
   "metadata": {},
   "outputs": [
    {
     "data": {
      "text/plain": [
       "2569629486656"
      ]
     },
     "execution_count": 13,
     "metadata": {},
     "output_type": "execute_result"
    }
   ],
   "source": [
    "id(a)"
   ]
  },
  {
   "cell_type": "code",
   "execution_count": 18,
   "id": "3d525612",
   "metadata": {},
   "outputs": [],
   "source": [
    "a=\"blue\""
   ]
  },
  {
   "cell_type": "code",
   "execution_count": 19,
   "id": "e746515e",
   "metadata": {},
   "outputs": [],
   "source": [
    "a=a*3"
   ]
  },
  {
   "cell_type": "code",
   "execution_count": 20,
   "id": "3d7af63b",
   "metadata": {},
   "outputs": [
    {
     "data": {
      "text/plain": [
       "'blueblueblue'"
      ]
     },
     "execution_count": 20,
     "metadata": {},
     "output_type": "execute_result"
    }
   ],
   "source": [
    "a"
   ]
  },
  {
   "cell_type": "code",
   "execution_count": 22,
   "id": "48ba86b0",
   "metadata": {},
   "outputs": [],
   "source": [
    "a=a+a*3"
   ]
  },
  {
   "cell_type": "code",
   "execution_count": 23,
   "id": "bf42583f",
   "metadata": {},
   "outputs": [
    {
     "data": {
      "text/plain": [
       "'blueblueblueblueblueblueblueblueblueblueblueblue'"
      ]
     },
     "execution_count": 23,
     "metadata": {},
     "output_type": "execute_result"
    }
   ],
   "source": [
    "a"
   ]
  },
  {
   "cell_type": "code",
   "execution_count": 24,
   "id": "2119f19d",
   "metadata": {},
   "outputs": [
    {
     "data": {
      "text/plain": [
       "2569631027808"
      ]
     },
     "execution_count": 24,
     "metadata": {},
     "output_type": "execute_result"
    }
   ],
   "source": [
    "id(a)"
   ]
  },
  {
   "cell_type": "markdown",
   "id": "d3140893",
   "metadata": {},
   "source": [
    "both the id are different"
   ]
  },
  {
   "cell_type": "markdown",
   "id": "0da161e3",
   "metadata": {},
   "source": [
    "# Slicing on String"
   ]
  },
  {
   "cell_type": "code",
   "execution_count": 27,
   "id": "e42b4e40",
   "metadata": {},
   "outputs": [],
   "source": [
    "s=\"parikh\""
   ]
  },
  {
   "cell_type": "code",
   "execution_count": 28,
   "id": "8d87cbde",
   "metadata": {},
   "outputs": [
    {
     "data": {
      "text/plain": [
       "'ari'"
      ]
     },
     "execution_count": 28,
     "metadata": {},
     "output_type": "execute_result"
    }
   ],
   "source": [
    "s[1:4]"
   ]
  },
  {
   "cell_type": "code",
   "execution_count": 29,
   "id": "7c12f08d",
   "metadata": {},
   "outputs": [
    {
     "data": {
      "text/plain": [
       "'ai'"
      ]
     },
     "execution_count": 29,
     "metadata": {},
     "output_type": "execute_result"
    }
   ],
   "source": [
    "s[1:4:2]"
   ]
  },
  {
   "cell_type": "code",
   "execution_count": 33,
   "id": "511f62a6",
   "metadata": {},
   "outputs": [
    {
     "data": {
      "text/plain": [
       "'ri'"
      ]
     },
     "execution_count": 33,
     "metadata": {},
     "output_type": "execute_result"
    }
   ],
   "source": [
    "s[-4:-2]"
   ]
  },
  {
   "cell_type": "code",
   "execution_count": 34,
   "id": "748ce253",
   "metadata": {},
   "outputs": [
    {
     "data": {
      "text/plain": [
       "'pari'"
      ]
     },
     "execution_count": 34,
     "metadata": {},
     "output_type": "execute_result"
    }
   ],
   "source": [
    "s[:4]"
   ]
  },
  {
   "cell_type": "markdown",
   "id": "b051f75d",
   "metadata": {},
   "source": [
    "# Itrating on String"
   ]
  },
  {
   "cell_type": "code",
   "execution_count": 35,
   "id": "e4895127",
   "metadata": {},
   "outputs": [],
   "source": [
    "str='hello world'"
   ]
  },
  {
   "cell_type": "code",
   "execution_count": 38,
   "id": "59b3ed1e",
   "metadata": {},
   "outputs": [
    {
     "name": "stdout",
     "output_type": "stream",
     "text": [
      "2\n"
     ]
    }
   ],
   "source": [
    "count =0\n",
    "for letter in str:\n",
    "    if (letter == 'o'):\n",
    "        count = count +1\n",
    "print(count)"
   ]
  },
  {
   "cell_type": "code",
   "execution_count": 40,
   "id": "c14a90e9",
   "metadata": {},
   "outputs": [
    {
     "name": "stdout",
     "output_type": "stream",
     "text": [
      "3\n"
     ]
    }
   ],
   "source": [
    "count = 0\n",
    "for i in range(len(str)):\n",
    "    if(str[i] == 'l'):\n",
    "        count=count+1\n",
    "print(count)"
   ]
  },
  {
   "cell_type": "markdown",
   "id": "e2408958",
   "metadata": {},
   "source": [
    "in and notin operation on string"
   ]
  },
  {
   "cell_type": "markdown",
   "id": "9834770b",
   "metadata": {},
   "source": [
    "in => is it a sub string\n",
    "notin => not a substring"
   ]
  },
  {
   "cell_type": "code",
   "execution_count": 41,
   "id": "5d11fa67",
   "metadata": {},
   "outputs": [],
   "source": [
    "str=\"hello World\""
   ]
  },
  {
   "cell_type": "code",
   "execution_count": 42,
   "id": "c8f41c05",
   "metadata": {},
   "outputs": [
    {
     "name": "stdout",
     "output_type": "stream",
     "text": [
      "yes it is a substring\n"
     ]
    }
   ],
   "source": [
    "if 'hel' in str:\n",
    "    print(\"yes it is a substring\")\n",
    "else:\n",
    "    print(\"No it is a substring\")"
   ]
  },
  {
   "cell_type": "markdown",
   "id": "564de62a",
   "metadata": {},
   "source": [
    "# comparision operators in String"
   ]
  },
  {
   "cell_type": "code",
   "execution_count": 44,
   "id": "b3bba194",
   "metadata": {},
   "outputs": [],
   "source": [
    "a=\"parikh\" == \"parikh\""
   ]
  },
  {
   "cell_type": "code",
   "execution_count": 45,
   "id": "65dc78fa",
   "metadata": {},
   "outputs": [
    {
     "data": {
      "text/plain": [
       "True"
      ]
     },
     "execution_count": 45,
     "metadata": {},
     "output_type": "execute_result"
    }
   ],
   "source": [
    "a"
   ]
  },
  {
   "cell_type": "code",
   "execution_count": 48,
   "id": "99b8a9ad",
   "metadata": {},
   "outputs": [],
   "source": [
    "a=\"parikh\" == \"harikh\""
   ]
  },
  {
   "cell_type": "code",
   "execution_count": 49,
   "id": "b0224f0a",
   "metadata": {},
   "outputs": [
    {
     "data": {
      "text/plain": [
       "False"
      ]
     },
     "execution_count": 49,
     "metadata": {},
     "output_type": "execute_result"
    }
   ],
   "source": [
    "a"
   ]
  },
  {
   "cell_type": "code",
   "execution_count": 54,
   "id": "2436db60",
   "metadata": {},
   "outputs": [],
   "source": [
    "a=\"parikh\" >= \"aarikh\""
   ]
  },
  {
   "cell_type": "code",
   "execution_count": 55,
   "id": "87fae004",
   "metadata": {},
   "outputs": [
    {
     "data": {
      "text/plain": [
       "True"
      ]
     },
     "execution_count": 55,
     "metadata": {},
     "output_type": "execute_result"
    }
   ],
   "source": [
    "a"
   ]
  },
  {
   "cell_type": "code",
   "execution_count": 56,
   "id": "5ccd1c5f",
   "metadata": {},
   "outputs": [],
   "source": [
    "a=\"parikh\" >= \"par\""
   ]
  },
  {
   "cell_type": "code",
   "execution_count": 57,
   "id": "e34ae468",
   "metadata": {},
   "outputs": [
    {
     "data": {
      "text/plain": [
       "True"
      ]
     },
     "execution_count": 57,
     "metadata": {},
     "output_type": "execute_result"
    }
   ],
   "source": [
    "a"
   ]
  },
  {
   "cell_type": "code",
   "execution_count": 62,
   "id": "9a39e901",
   "metadata": {},
   "outputs": [],
   "source": [
    "a=\"parikh\" >= \"darikhs\""
   ]
  },
  {
   "cell_type": "code",
   "execution_count": 63,
   "id": "66018aea",
   "metadata": {},
   "outputs": [
    {
     "data": {
      "text/plain": [
       "True"
      ]
     },
     "execution_count": 63,
     "metadata": {},
     "output_type": "execute_result"
    }
   ],
   "source": [
    "a"
   ]
  },
  {
   "cell_type": "markdown",
   "id": "0cb9e89c",
   "metadata": {},
   "source": [
    "# Functions of String"
   ]
  },
  {
   "cell_type": "markdown",
   "id": "ddbe707c",
   "metadata": {},
   "source": [
    "split"
   ]
  },
  {
   "cell_type": "code",
   "execution_count": 66,
   "id": "5a6cbc81",
   "metadata": {},
   "outputs": [
    {
     "name": "stdout",
     "output_type": "stream",
     "text": [
      "['my name is parikh']\n"
     ]
    }
   ],
   "source": [
    "str=\"my name is parikh\"\n",
    "li=str.split(',',2)\n",
    "print(li)"
   ]
  },
  {
   "cell_type": "code",
   "execution_count": 68,
   "id": "86ee939f",
   "metadata": {},
   "outputs": [
    {
     "name": "stdout",
     "output_type": "stream",
     "text": [
      "['my name is parikh']\n"
     ]
    }
   ],
   "source": [
    "str=\"my name is parikh\"\n",
    "li=str.split(',',2)\n",
    "print(li)"
   ]
  },
  {
   "cell_type": "markdown",
   "id": "f1ac3ca8",
   "metadata": {},
   "source": [
    "replace"
   ]
  },
  {
   "cell_type": "code",
   "execution_count": 75,
   "id": "6e55cea2",
   "metadata": {},
   "outputs": [
    {
     "name": "stdout",
     "output_type": "stream",
     "text": [
      "my name is Rohan Rohan parikh\n"
     ]
    }
   ],
   "source": [
    "str=\"my name is parikh parikh parikh\"\n",
    "str=str.replace(\"parikh\",\"Rohan\",2)\n",
    "print(str)"
   ]
  },
  {
   "cell_type": "markdown",
   "id": "578e589b",
   "metadata": {},
   "source": [
    "find"
   ]
  },
  {
   "cell_type": "code",
   "execution_count": 79,
   "id": "22bdeb7c",
   "metadata": {},
   "outputs": [
    {
     "name": "stdout",
     "output_type": "stream",
     "text": [
      "12\n"
     ]
    }
   ],
   "source": [
    "str=\"my name is Parikh\"\n",
    "index=str.find(\"ar\")\n",
    "print(index)"
   ]
  },
  {
   "cell_type": "code",
   "execution_count": 83,
   "id": "1bf99b64",
   "metadata": {},
   "outputs": [
    {
     "name": "stdout",
     "output_type": "stream",
     "text": [
      "18\n"
     ]
    }
   ],
   "source": [
    "str=\"my name is parikh parikh\"\n",
    "index=str.find(\"par\",16,21)\n",
    "print(index)"
   ]
  },
  {
   "cell_type": "markdown",
   "id": "f89dc2ab",
   "metadata": {},
   "source": [
    "lower and upper"
   ]
  },
  {
   "cell_type": "code",
   "execution_count": 85,
   "id": "7f15e5b4",
   "metadata": {},
   "outputs": [
    {
     "name": "stdout",
     "output_type": "stream",
     "text": [
      "my name is parikh\n",
      "MY NAME IS PARIKH\n"
     ]
    }
   ],
   "source": [
    "str=\"my nAme is ParIkh\"\n",
    "str=str.lower()\n",
    "print(str)\n",
    "str=str.upper()\n",
    "print(str)"
   ]
  },
  {
   "cell_type": "markdown",
   "id": "67e786b2",
   "metadata": {},
   "source": [
    "Startwith"
   ]
  },
  {
   "cell_type": "code",
   "execution_count": 88,
   "id": "0ec372c7",
   "metadata": {},
   "outputs": [
    {
     "name": "stdout",
     "output_type": "stream",
     "text": [
      "True\n"
     ]
    }
   ],
   "source": [
    "str=\"My Name Is Parikh\"\n",
    "ans=str.startswith(\"Pa\",11,25)\n",
    "print(ans)"
   ]
  }
 ],
 "metadata": {
  "kernelspec": {
   "display_name": "Python 3 (ipykernel)",
   "language": "python",
   "name": "python3"
  },
  "language_info": {
   "codemirror_mode": {
    "name": "ipython",
    "version": 3
   },
   "file_extension": ".py",
   "mimetype": "text/x-python",
   "name": "python",
   "nbconvert_exporter": "python",
   "pygments_lexer": "ipython3",
   "version": "3.9.7"
  }
 },
 "nbformat": 4,
 "nbformat_minor": 5
}
