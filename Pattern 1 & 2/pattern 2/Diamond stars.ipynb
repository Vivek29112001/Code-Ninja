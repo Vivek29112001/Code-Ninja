{
 "cells": [
  {
   "cell_type": "code",
   "execution_count": 11,
   "id": "0bbf2bb5",
   "metadata": {},
   "outputs": [
    {
     "name": "stdout",
     "output_type": "stream",
     "text": [
      "3\n",
      " *\n",
      "***\n",
      " *\n"
     ]
    }
   ],
   "source": [
    "## Read input as specified in the question.\n",
    "## Print output as specified in the question.\n",
    "n=int(input())\n",
    "i=1\n",
    "k=n//2\n",
    "j=k\n",
    "c=1\n",
    "while k>-1 and (2*i-1)<=n:\n",
    "    print(\" \"*k,end=\"\")\n",
    "    print(\"*\"*(2*i-1),end=\"\")\n",
    "    k=k-1\n",
    "    i=i+1\n",
    "    print()\n",
    "i=i-2\n",
    "while c<=j and i>0:\n",
    "    print(\" \"*c,end=\"\")\n",
    "    print(\"*\"*(2*i-1),end=\"\")\n",
    "    c=c+1\n",
    "    i=i-1\n",
    "    print()"
   ]
  },
  {
   "cell_type": "code",
   "execution_count": null,
   "id": "3cb29de8",
   "metadata": {},
   "outputs": [],
   "source": [
    "5\n"
   ]
  }
 ],
 "metadata": {
  "kernelspec": {
   "display_name": "Python 3 (ipykernel)",
   "language": "python",
   "name": "python3"
  },
  "language_info": {
   "codemirror_mode": {
    "name": "ipython",
    "version": 3
   },
   "file_extension": ".py",
   "mimetype": "text/x-python",
   "name": "python",
   "nbconvert_exporter": "python",
   "pygments_lexer": "ipython3",
   "version": "3.9.7"
  }
 },
 "nbformat": 4,
 "nbformat_minor": 5
}
