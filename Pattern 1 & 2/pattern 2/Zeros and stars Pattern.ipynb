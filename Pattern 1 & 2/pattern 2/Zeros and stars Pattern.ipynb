{
 "cells": [
  {
   "cell_type": "code",
   "execution_count": null,
   "id": "f3f3f1db",
   "metadata": {},
   "outputs": [],
   "source": [
    "n=int(input())\n",
    "l=[[0]*(2*n+1) for i in range(n)]\n",
    "for i in range(n):\n",
    "    for j in range(n):\n",
    "        if i==j:\n",
    "            l[i][j]=\"*\"\n",
    "for i in range(n):\n",
    "    l[i][n]=\"*\"\n",
    "#print(l)\n",
    "for i in range(n):\n",
    "    for j in range(2*n+1):\n",
    "        if i+j==2*n:\n",
    "            l[i][j]=\"*\"\n",
    "for i in l:\n",
    "    for j in i:\n",
    "        print(j,end=\"\")\n",
    "    print()"
   ]
  }
 ],
 "metadata": {
  "kernelspec": {
   "display_name": "Python 3 (ipykernel)",
   "language": "python",
   "name": "python3"
  },
  "language_info": {
   "codemirror_mode": {
    "name": "ipython",
    "version": 3
   },
   "file_extension": ".py",
   "mimetype": "text/x-python",
   "name": "python",
   "nbconvert_exporter": "python",
   "pygments_lexer": "ipython3",
   "version": "3.9.7"
  }
 },
 "nbformat": 4,
 "nbformat_minor": 5
}
