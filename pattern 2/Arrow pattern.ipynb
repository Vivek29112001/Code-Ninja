{
 "cells": [
  {
   "cell_type": "code",
   "execution_count": null,
   "id": "176c464c",
   "metadata": {},
   "outputs": [],
   "source": [
    "n=int(input())\n",
    "i=1\n",
    "j=0\n",
    "while 2*i<=n and  j<n:\n",
    "    print(\" \"*j,end=\"\")\n",
    "    for k in range(1,i+1):\n",
    "        print(\"*\",end=\" \")\n",
    "    i=i+1\n",
    "    j=j+1\n",
    "    print()\n",
    "print(\" \"*j,end=\"\")\n",
    "for k in range(1,i+1):\n",
    "    print(\"*\",end=\" \")\n",
    "print()\n",
    "j=j-1\n",
    "i=i-1\n",
    "while j>=0 and 2*i-1>0:\n",
    "    print(\" \"*j,end=\"\")\n",
    "    for k in range(1,i+1):\n",
    "        print(\"*\",end=\" \")\n",
    "    i=i-1\n",
    "    j=j-1\n",
    "    print()"
   ]
  }
 ],
 "metadata": {
  "kernelspec": {
   "display_name": "Python 3 (ipykernel)",
   "language": "python",
   "name": "python3"
  },
  "language_info": {
   "codemirror_mode": {
    "name": "ipython",
    "version": 3
   },
   "file_extension": ".py",
   "mimetype": "text/x-python",
   "name": "python",
   "nbconvert_exporter": "python",
   "pygments_lexer": "ipython3",
   "version": "3.9.7"
  }
 },
 "nbformat": 4,
 "nbformat_minor": 5
}
