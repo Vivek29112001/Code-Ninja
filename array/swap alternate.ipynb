{
 "cells": [
  {
   "cell_type": "code",
   "execution_count": 3,
   "id": "a167a4fc",
   "metadata": {},
   "outputs": [],
   "source": [
    "def swapAlternate (li):\n",
    "    length =len(li)\n",
    "    i = 0\n",
    "    for k in range(length//2):\n",
    "        li[i],li[i+1]=li[i+1],li[i]\n",
    "        i+=2\n",
    "    print(*li,end=\" \")\n",
    "    print()\n",
    "\n",
    "loop_cycle=int(input())\n",
    "for i in range(0, loop_cycle):\n",
    "    faltu = input()\n",
    "    lip = [int(x) for x in input().split()]\n",
    "    swapAlternate(lip)"
   ]
  }
 ],
 "metadata": {
  "kernelspec": {
   "display_name": "Python 3 (ipykernel)",
   "language": "python",
   "name": "python3"
  },
  "language_info": {
   "codemirror_mode": {
    "name": "ipython",
    "version": 3
   },
   "file_extension": ".py",
   "mimetype": "text/x-python",
   "name": "python",
   "nbconvert_exporter": "python",
   "pygments_lexer": "ipython3",
   "version": "3.9.7"
  }
 },
 "nbformat": 4,
 "nbformat_minor": 5
}
